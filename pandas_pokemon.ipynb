{
  "nbformat": 4,
  "nbformat_minor": 0,
  "metadata": {
    "colab": {
      "provenance": [],
      "include_colab_link": true
    },
    "kernelspec": {
      "name": "python3",
      "display_name": "Python 3"
    },
    "language_info": {
      "name": "python"
    }
  },
  "cells": [
    {
      "cell_type": "markdown",
      "metadata": {
        "id": "view-in-github",
        "colab_type": "text"
      },
      "source": [
        "<a href=\"https://colab.research.google.com/github/kacperpaczos/-Exercism-s-workouts/blob/main/pandas_pokemon.ipynb\" target=\"_parent\"><img src=\"https://colab.research.google.com/assets/colab-badge.svg\" alt=\"Open In Colab\"/></a>"
      ]
    },
    {
      "cell_type": "code",
      "execution_count": 12,
      "metadata": {
        "id": "FVXGAoT8mNv_",
        "colab": {
          "base_uri": "https://localhost:8080/"
        },
        "outputId": "f068467e-87c6-4c4e-a979-e4d2d272d1a9"
      },
      "outputs": [
        {
          "output_type": "stream",
          "name": "stdout",
          "text": [
            "Type 1\n",
            "Water       112\n",
            "Normal       98\n",
            "Grass        70\n",
            "Bug          69\n",
            "Psychic      57\n",
            "Fire         52\n",
            "Rock         44\n",
            "Electric     44\n",
            "Ground       32\n",
            "Ghost        32\n",
            "Dragon       32\n",
            "Dark         31\n",
            "Poison       28\n",
            "Fighting     27\n",
            "Steel        27\n",
            "Ice          24\n",
            "Fairy        17\n",
            "Flying        4\n",
            "Name: count, dtype: int64\n"
          ]
        }
      ],
      "source": [
        "import pandas as pd\n",
        "\n",
        "# Read the CSV file into a DataFrame\n",
        "df = pd.read_csv(\"Pokemon.csv\")\n",
        "\n",
        "#print(df)\n",
        "# Get the unique elements in the \"Type 1\" column\n",
        "unikatowe_typy = df[\"Type 1\"].unique()\n",
        "\n",
        "# Get the number of unique elements\n",
        "ile_unikatowe_typy = len(unikatowe_typy)\n",
        "\n",
        "# Display the result\n",
        "print(f\"Ilość Kategorii w 'Type 1': {ile_unikatowe_typy}\")\n",
        "\n",
        "\n",
        "# Count the occurrences of each unique value in the \"Type 1\" column\n",
        "type_counts = df[\"Type 1\"].value_counts()\n",
        "\n",
        "# Display the results\n",
        "print(type_counts)"
      ]
    },
    {
      "cell_type": "markdown",
      "source": [
        "# Nowa sekcja"
      ],
      "metadata": {
        "id": "l3StMgUfnHtq"
      }
    },
    {
      "cell_type": "code",
      "source": [
        "# Poliz ilejest pokemonów legendarych\n",
        "\n",
        "#print(df)\n",
        "\n",
        "A = df[\"Legendary\"]\n",
        "B = df[A == True]\n",
        "C = len(B)\n",
        "print(C)\n",
        "\n",
        "legendary_pokemon = df[df[\"Legendary\"] == True]\n",
        "\n",
        "# Count the number of True values (legendary Pokemon)\n",
        "num_legendary = len(legendary_pokemon)\n",
        "\n",
        "print(num_legendary)"
      ],
      "metadata": {
        "colab": {
          "base_uri": "https://localhost:8080/"
        },
        "id": "LK8drD1atRh2",
        "outputId": "14d9c7f0-ee7a-47cf-ecbf-a689d4370b4b"
      },
      "execution_count": 20,
      "outputs": [
        {
          "output_type": "stream",
          "name": "stdout",
          "text": [
            "65\n",
            "65\n"
          ]
        }
      ]
    },
    {
      "cell_type": "code",
      "source": [
        "#print(df)\n",
        "\n",
        "T2 = df[\"Type 2\"]\n",
        "IleT2BezTypu = T2.isnull().sum()\n",
        "print(IleT2BezTypu)\n",
        "#empty_rows_count = df[\"Type 2\"].isnull().sum()\n",
        "#print(empty_rows_count)"
      ],
      "metadata": {
        "colab": {
          "base_uri": "https://localhost:8080/"
        },
        "id": "TcHmkAeWtXw9",
        "outputId": "30953423-b77d-493d-fff7-a119b2559b90"
      },
      "execution_count": 29,
      "outputs": [
        {
          "output_type": "stream",
          "name": "stdout",
          "text": [
            "386\n",
            "386\n"
          ]
        }
      ]
    },
    {
      "cell_type": "code",
      "source": [
        "Top10wgTotal = df[\"Total\"].sort_values(ascending=False).head(10)\n",
        "print(Top10wgTotal)"
      ],
      "metadata": {
        "colab": {
          "base_uri": "https://localhost:8080/"
        },
        "id": "J8oi3bx_x_fl",
        "outputId": "39fcadbc-d66e-4318-c556-ad0aeebaa5c9"
      },
      "execution_count": 31,
      "outputs": [
        {
          "output_type": "stream",
          "name": "stdout",
          "text": [
            "426    780\n",
            "163    780\n",
            "164    780\n",
            "422    770\n",
            "424    770\n",
            "552    720\n",
            "418    700\n",
            "494    700\n",
            "413    700\n",
            "796    700\n",
            "Name: Total, dtype: int64\n"
          ]
        }
      ]
    },
    {
      "cell_type": "code",
      "source": [
        "# Zlicz pokemon pokemony w generacji\n",
        "generacja = df[\"Generation\"].value_counts()\n",
        "print(generacja)\n",
        "\n",
        "import matplotlib.pyplot as plt\n",
        "plt.pie(generacja)\n",
        "plt.show()"
      ],
      "metadata": {
        "colab": {
          "base_uri": "https://localhost:8080/",
          "height": 545
        },
        "id": "5Jlipslly1l9",
        "outputId": "fe596af1-1952-4afd-ad4a-3c664616e816"
      },
      "execution_count": 38,
      "outputs": [
        {
          "output_type": "stream",
          "name": "stdout",
          "text": [
            "Generation\n",
            "1    166\n",
            "5    165\n",
            "3    160\n",
            "4    121\n",
            "2    106\n",
            "6     82\n",
            "Name: count, dtype: int64\n"
          ]
        },
        {
          "output_type": "display_data",
          "data": {
            "text/plain": [
              "<Figure size 640x480 with 1 Axes>"
            ],
            "image/png": "[encoded data removed]"
          },
          "metadata": {}
        }
      ]
    },
    {
      "cell_type": "code",
      "source": [
        "# Znajdz srednia wartosc HP dla każdego z typów pokemonów\n",
        "\n",
        "srednia_wartosc_HP = df.groupby(\"Type 1\")[\"HP\"].mean()\n",
        "#print(srednia_wartosc_HP)\n",
        "\n",
        "\n",
        "print(df)\n",
        "print(df.groupby(\"Type 1\"))"
      ],
      "metadata": {
        "colab": {
          "base_uri": "https://localhost:8080/"
        },
        "id": "avkm9vUczZ7k",
        "outputId": "be58e9ea-99ce-4cf1-cd93-6bab355060c5"
      },
      "execution_count": 43,
      "outputs": [
        {
          "output_type": "stream",
          "name": "stdout",
          "text": [
            "       #                   Name   Type 1  Type 2  Total  HP  Attack  Defense  \\\n",
            "0      1              Bulbasaur    Grass  Poison    318  45      49       49   \n",
            "1      2                Ivysaur    Grass  Poison    405  60      62       63   \n",
            "2      3               Venusaur    Grass  Poison    525  80      82       83   \n",
            "3      3  VenusaurMega Venusaur    Grass  Poison    625  80     100      123   \n",
            "4      4             Charmander     Fire     NaN    309  39      52       43   \n",
            "..   ...                    ...      ...     ...    ...  ..     ...      ...   \n",
            "795  719                Diancie     Rock   Fairy    600  50     100      150   \n",
            "796  719    DiancieMega Diancie     Rock   Fairy    700  50     160      110   \n",
            "797  720    HoopaHoopa Confined  Psychic   Ghost    600  80     110       60   \n",
            "798  720     HoopaHoopa Unbound  Psychic    Dark    680  80     160       60   \n",
            "799  721              Volcanion     Fire   Water    600  80     110      120   \n",
            "\n",
            "     Sp. Atk  Sp. Def  Speed  Generation  Legendary  \n",
            "0         65       65     45           1      False  \n",
            "1         80       80     60           1      False  \n",
            "2        100      100     80           1      False  \n",
            "3        122      120     80           1      False  \n",
            "4         60       50     65           1      False  \n",
            "..       ...      ...    ...         ...        ...  \n",
            "795      100      150     50           6       True  \n",
            "796      160      110    110           6       True  \n",
            "797      150      130     70           6       True  \n",
            "798      170      130     80           6       True  \n",
            "799      130       90     70           6       True  \n",
            "\n",
            "[800 rows x 13 columns]\n",
            "<pandas.core.groupby.generic.DataFrameGroupBy object at 0x7aca9a8857d0>\n"
          ]
        }
      ]
    },
    {
      "cell_type": "code",
      "source": [],
      "metadata": {
        "id": "aFqOAPIYz9DW"
      },
      "execution_count": null,
      "outputs": []
    }
  ]
}